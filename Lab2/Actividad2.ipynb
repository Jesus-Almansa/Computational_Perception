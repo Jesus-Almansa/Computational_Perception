{
 "cells": [
  {
   "cell_type": "markdown",
   "id": "cad96c36-c7a0-4b04-8b4c-0f59b86dc084",
   "metadata": {},
   "source": [
    "# Percepción Computacional - Actividad 2"
   ]
  },
  {
   "cell_type": "markdown",
   "id": "eb6c94ba-14a1-42a7-bcdb-5c819c69adea",
   "metadata": {},
   "source": [
    "## Preparación del entorno "
   ]
  },
  {
   "cell_type": "code",
   "execution_count": null,
   "id": "438c0531-a084-46eb-878b-36461a610d11",
   "metadata": {},
   "outputs": [],
   "source": [
    "from pathlib import Path\n",
    "from typing import List\n",
    "\n",
    "import session_info\n",
    "import numpy as np\n",
    "import matplotlib.pyplot as plt \n",
    "from skimage import exposure\n",
    "from skimage.io import imread\n",
    "from skimage.color import rgb2gray\n",
    "from scipy.ndimage import laplace\n",
    "from scipy.signal import medfilt2d\n",
    "from cv2 import Sobel, Canny, threshold, erode, dilate, morphologyEx\n",
    "from cv2 import CV_64F, THRESH_BINARY, THRESH_OTSU, MORPH_OPEN, MORPH_CLOSE, MORPH_GRADIENT"
   ]
  },
  {
   "cell_type": "code",
   "execution_count": null,
   "id": "48e376c4-1136-4115-9e39-e4b26dde2921",
   "metadata": {},
   "outputs": [],
   "source": [
    "DATA_DIR = Path(\"../imagenes/\")\n",
    "\n",
    "SCIENCE_DIR = DATA_DIR / \"cientifico\"\n",
    "MEDICAL_DIR = DATA_DIR / \"medico\"\n",
    "INDUSTRIAL_DIR = DATA_DIR / \"industrial\"\n",
    "SATELITAL_DIR = DATA_DIR / \"satelital\""
   ]
  },
  {
   "cell_type": "code",
   "execution_count": null,
   "id": "d84fa5c4-269a-47da-882a-bf22cfd75dc1",
   "metadata": {},
   "outputs": [],
   "source": [
    "session_info.show()"
   ]
  },
  {
   "cell_type": "markdown",
   "id": "eeddddc2-021f-46e7-bace-a144418953d6",
   "metadata": {},
   "source": [
    "## Funciones útiles"
   ]
  },
  {
   "cell_type": "code",
   "execution_count": null,
   "id": "523e85f7-c6e1-403c-b1bd-e9d9a411d74d",
   "metadata": {},
   "outputs": [],
   "source": [
    "def read_images(directory_path: Path) -> List[Path]:\n",
    "    image_paths = []\n",
    "    \n",
    "    for image_path in directory_path.glob(\"*\"):\n",
    "        image_paths.append(image_path)\n",
    "    \n",
    "    image_paths.sort()\n",
    "    \n",
    "    for image_path in image_paths:\n",
    "        print(image_path)\n",
    "\n",
    "    return image_paths\n",
    "        \n",
    "\n",
    "def plot(img: np.ndarray, title: str=\"\"):\n",
    "    plt.figure(figsize=(14,8))\n",
    "    plt.axis('off')\n",
    "    \n",
    "    if isinstance(img, np.ndarray) and len(img.shape) == 2:\n",
    "        plt.imshow(img, cmap='gray')\n",
    "    else:\n",
    "        plt.imshow(img)\n",
    "\n",
    "    plt.title(title)\n",
    "    \n",
    "    \n",
    "    plt.show()\n",
    "\n",
    "\n",
    "def process_image(image_path: Path, increase_contrast: bool=False):\n",
    "    original_image = imread(image_path)\n",
    "    plot(original_image, \"Imagen original\")\n",
    "\n",
    "    if increase_contrast:\n",
    "        equalized_image = exposure.equalize_hist(original_image)\n",
    "        gamma_corrected = exposure.adjust_gamma(equalized_image, 2)\n",
    "        gamma_and_log_corrected = exposure.adjust_log(gamma_corrected, 1)\n",
    "\n",
    "        original_image = gamma_and_log_corrected        \n",
    "        plot(original_image, \"Imagen original con equalizada, con correción de gamma y filtrado logaritmico\")\n",
    "        \n",
    "    if len(original_image.shape) == 3:\n",
    "        # Si tiene alfa channel, lo descartamos\n",
    "        if original_image.shape[-1] == 4:\n",
    "            original_image = original_image[:,:,:-1]\n",
    "\n",
    "        grayscale_image = rgb2gray(original_image)\n",
    "        grayscale_image = (grayscale_image * 255).astype(np.uint8)\n",
    "    \n",
    "    else:\n",
    "        grayscale_image = original_image\n",
    "    \n",
    "    plot(grayscale_image, \"Imagen en escala de grises\")\n",
    "\n",
    "    # Filtrado espacial lineal - suavizado\n",
    "    filtered_grayscale_image = medfilt2d(grayscale_image, [3,3])\n",
    "    plot(filtered_grayscale_image, \"Imagen filtrada espacialmente mediante la mediana\")\n",
    "\n",
    "    # Realzamos los bordes \n",
    "    sobel_horizontal_grayscale_image = Sobel(src=grayscale_image, ddepth=CV_64F, dx=0, dy=1, ksize=3) \n",
    "    sobel_vertical_grayscale_image = Sobel(src=grayscale_image, ddepth=CV_64F, dx=1, dy=0, ksize=3)\n",
    "    sobel_grayscale_image = (sobel_horizontal_grayscale_image + sobel_vertical_grayscale_image) / 2\n",
    "    plot(sobel_grayscale_image, \"Bordes resaltados mediante filtrado de Sobel\")\n",
    "\n",
    "    # Realzamos los bordes diagonales\n",
    "    sobel_diagonal_grayscale_image = Sobel(src=grayscale_image, ddepth=CV_64F, dx=1, dy=1, ksize=3) \n",
    "    plot(sobel_diagonal_grayscale_image, \"Bordes diagonales resaltados mediante filtrado de Sobel\")\n",
    "\n",
    "    # Realzamos los bordes mediante \n",
    "    canny_grayscale_image = Canny(image=grayscale_image, threshold1=100, threshold2=200)\n",
    "    plot(canny_grayscale_image, \"Bordes resaltados mediante filtrado de Canny\")\n",
    "\n",
    "    # Realce de detalles finos\n",
    "    laplace_filtered_grayscale_image = laplace(grayscale_image)\n",
    "    plot(laplace_filtered_grayscale_image, \"Detalles relaltados mediante filtrado con filtro de Laplace\")\n",
    "\n",
    "    # Binarización de la imagen\n",
    "    # Usamos el método de Otsu para encontrar el threshold de la binaziración, es el default de matlab\n",
    "    binarized_image = threshold(grayscale_image, 0, 255, THRESH_BINARY+THRESH_OTSU)[1]\n",
    "    plot(binarized_image, \"Imagen binarizada (usando el método de Otsu para encontrar el punto de corte)\")\n",
    "\n",
    "    structurant_element = np.ones((3,3), np.uint8)\n",
    "    eroded_binarized_image = erode(binarized_image, structurant_element, iterations = 1)\n",
    "    dilated_binarized_image = dilate(binarized_image, structurant_element, iterations = 1)\n",
    "\n",
    "    plot(eroded_binarized_image, \"Imagen binaria erosionada\")\n",
    "    plot(dilated_binarized_image, \"Imagen binaria dilatada\")\n",
    "    \n",
    "    # Dilatación y erosión de una imagen en escala de grises\n",
    "    eroded_image = erode(grayscale_image, structurant_element, iterations = 1)\n",
    "    dilated_image = dilate(grayscale_image, structurant_element, iterations = 1)\n",
    "    opened_image = morphologyEx(grayscale_image, MORPH_OPEN, structurant_element)\n",
    "    closed_image = morphologyEx(grayscale_image, MORPH_CLOSE, structurant_element)\n",
    "\n",
    "    plot(eroded_image, \"Imagen en escala de grises erosionada\")\n",
    "    plot(dilated_image, \"Imagen en escala de grises dilatada\")\n",
    "    plot(opened_image, \"Imagen en escala de grises abierta\")\n",
    "    plot(closed_image, \"Imagen en escala de grises cerrada\")\n",
    "\n",
    "    # Gradientes y operadores basados en ellos\n",
    "    internal_gradient = grayscale_image - eroded_image\n",
    "    external_gradient = dilated_image - grayscale_image\n",
    "    gradient = dilated_image - eroded_image\n",
    "    morphological_gradient = morphologyEx(grayscale_image, MORPH_GRADIENT, structurant_element)\n",
    "    white_top_hat = grayscale_image - opened_image\n",
    "    black_top_hat = closed_image - grayscale_image\n",
    "    top_hat = closed_image - opened_image\n",
    "\n",
    "    plot(internal_gradient, \"Gradiente Interno\")\n",
    "    plot(external_gradient, \"Gradiente Externo\")\n",
    "    plot(gradient, \"Gradiente\")\n",
    "    plot(morphological_gradient, \"Gradiente Morfológico\")\n",
    "    plot(white_top_hat, \"White Top Hat\")\n",
    "    plot(internal_gradient, \"Black Top Hat\")\n",
    "    plot(internal_gradient, \"Top Hat\")\n",
    "    plot(internal_gradient, \"Gradiente Interno\")\n",
    "    plot(internal_gradient, \"Gradiente Interno\")\n",
    "\n",
    "    # Detección de contornos\n",
    "    open_countour = opened_image - eroded_image\n",
    "    dilated_countour = dilated_image - eroded_image\n",
    "\n",
    "    plot(open_countour, \"Contornos mediante apertura\")\n",
    "    plot(dilated_countour, \"Contornos mediante dilatación\")"
   ]
  },
  {
   "cell_type": "markdown",
   "id": "e9d720f4-9cf8-43b3-91ad-865107df3153",
   "metadata": {},
   "source": [
    "## Casos Científicos (Microscopio electrónico)"
   ]
  },
  {
   "cell_type": "code",
   "execution_count": null,
   "id": "de718663-15c4-439c-9e60-44c204885f41",
   "metadata": {},
   "outputs": [],
   "source": [
    "image_paths = read_images(SCIENCE_DIR)"
   ]
  },
  {
   "cell_type": "code",
   "execution_count": null,
   "id": "f1b4a984-94e4-4994-8c38-8b197d3ff572",
   "metadata": {
    "scrolled": true
   },
   "outputs": [],
   "source": [
    "# Ref: https://www.sciencephoto.com/media/668923/view/zinc-oxide-crystals-sem\n",
    "process_image(image_paths[0])"
   ]
  },
  {
   "cell_type": "code",
   "execution_count": null,
   "id": "db704a0a-3150-44bd-bcb6-1b152ac40d70",
   "metadata": {},
   "outputs": [],
   "source": [
    "# Ref: https://en.wikipedia.org/wiki/Scanning_electron_microscope#/media/File:Surface_of_a_kidney_stone.jpg\n",
    "process_image(image_paths[1])"
   ]
  },
  {
   "cell_type": "markdown",
   "id": "fd73c7fd-e45f-4372-bbbc-4d82b86c89a6",
   "metadata": {},
   "source": [
    "## Casos Médicos (CT-Scan)"
   ]
  },
  {
   "cell_type": "code",
   "execution_count": null,
   "id": "a88da413-d1aa-449d-8676-c671c23dc76b",
   "metadata": {},
   "outputs": [],
   "source": [
    "image_paths = read_images(MEDICAL_DIR)"
   ]
  },
  {
   "cell_type": "code",
   "execution_count": null,
   "id": "5240a939-9aeb-4984-b72b-348af1b7ab42",
   "metadata": {},
   "outputs": [],
   "source": [
    "# Ref: https://www.sciencedirect.com/science/article/pii/S0378603X15000054?ref=pdf_download&fr=RR-2&rr=84602195fe2056fd\n",
    "\n",
    "process_image(image_paths[0], True)"
   ]
  },
  {
   "cell_type": "markdown",
   "id": "1fb45628-51dd-4f7f-a6a5-b0f48044dfb4",
   "metadata": {},
   "source": [
    "## Casos Industrial (Imagen termográfica)"
   ]
  },
  {
   "cell_type": "code",
   "execution_count": null,
   "id": "ed335f6d-4cfe-484a-a554-7e22ff9e7358",
   "metadata": {},
   "outputs": [],
   "source": [
    "image_paths = read_images(INDUSTRIAL_DIR)"
   ]
  },
  {
   "cell_type": "code",
   "execution_count": null,
   "id": "b9b609db-775c-4a7d-b12d-cc4552b4dd9c",
   "metadata": {},
   "outputs": [],
   "source": [
    "process_image(image_paths[0])"
   ]
  },
  {
   "cell_type": "markdown",
   "id": "b0c6f975-8d9b-4227-a2f8-5653d2f7ab6d",
   "metadata": {},
   "source": [
    "## Caso Satelital "
   ]
  },
  {
   "cell_type": "code",
   "execution_count": null,
   "id": "a25cff05-20f6-4918-b47c-f5b031809431",
   "metadata": {},
   "outputs": [],
   "source": [
    "image_paths = read_images(SATELITAL_DIR)"
   ]
  },
  {
   "cell_type": "code",
   "execution_count": null,
   "id": "5a6a2212-4da9-466f-b915-51482f384fb9",
   "metadata": {},
   "outputs": [],
   "source": [
    "process_image(image_paths[0])"
   ]
  },
  {
   "cell_type": "code",
   "execution_count": null,
   "id": "09db8208-fbc7-46fb-ba66-8e478ce1a73f",
   "metadata": {},
   "outputs": [],
   "source": []
  }
 ],
 "metadata": {
  "kernelspec": {
   "display_name": "Python 3 (ipykernel)",
   "language": "python",
   "name": "python3"
  },
  "language_info": {
   "codemirror_mode": {
    "name": "ipython",
    "version": 3
   },
   "file_extension": ".py",
   "mimetype": "text/x-python",
   "name": "python",
   "nbconvert_exporter": "python",
   "pygments_lexer": "ipython3",
   "version": "3.11.5"
  }
 },
 "nbformat": 4,
 "nbformat_minor": 5
}
